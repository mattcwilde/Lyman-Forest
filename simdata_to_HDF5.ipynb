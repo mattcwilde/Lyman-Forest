{
 "cells": [
  {
   "cell_type": "markdown",
   "metadata": {},
   "source": [
    "# Make HDF5 data cube\n",
    "\n",
    "Convert nfiles x nrows x ncols into a hdf5 data cube."
   ]
  },
  {
   "cell_type": "code",
   "execution_count": 9,
   "metadata": {
    "collapsed": true
   },
   "outputs": [],
   "source": [
    "import h5py\n",
    "import numpy as np\n",
    "from glob import glob\n",
    "import pandas as pd"
   ]
  },
  {
   "cell_type": "code",
   "execution_count": 14,
   "metadata": {
    "collapsed": false
   },
   "outputs": [],
   "source": [
    "test_file = \"../../../Data/sim_data/z2.45/spec_xHeII1_015_mt_line0000.dat\"\n",
    "data = np.loadtxt(test_file)\n",
    "file_list = glob(\"../../../Data/sim_data/z2.45/spec_xHeII1_015_mt_line*.dat\")"
   ]
  },
  {
   "cell_type": "markdown",
   "metadata": {},
   "source": [
    "Read in the sim data for z=2.45 and store it in an HDF5 table"
   ]
  },
  {
   "cell_type": "code",
   "execution_count": 6,
   "metadata": {
    "collapsed": false
   },
   "outputs": [],
   "source": [
    "# Create archive\n",
    "f = h5py.File('../../../Data/z245.hdf5', 'w')\n",
    "\n",
    "n_cols = data.shape[1]\n",
    "n_rows = data.shape[0]\n",
    "n_files = len(file_list)\n",
    "\n",
    "# Create a \"dataset\" which is like a numpy.ndarray\n",
    "z245 = f.create_dataset('z2.45', dtype=np.float64, \n",
    "                           shape=(n_files, n_rows, n_cols)) #, compression=\"lzf\")\n",
    "\n",
    "# Fill it with data like you would do for a numpy.ndarray\n",
    "# TODO: loop over redshift folders too...\n",
    "for i,fname in enumerate(file_list):\n",
    "    z245[i, :, :] = pd.read_table(fname, header=None, comment='#', delimiter=' ')\n",
    "    \n",
    "# Save associated metadata: \n",
    "names = [\"velocity [km/s]\", \"tau_HILya\", \"tau_HeI584\", \"tau_HeIILya\", \n",
    "         \"nHI [cm^-3]\", \"nHeII [cm^-3]\", \"Delta_b\", \"T [K]\", \"xpos [Mpc/h]\", \"vpec [km/sec]\"]\n",
    "z245.attrs['colname'] = names\n",
    "    \n",
    "f.close()"
   ]
  },
  {
   "cell_type": "markdown",
   "metadata": {},
   "source": [
    "# Make a function to do this for any redshift folder:"
   ]
  },
  {
   "cell_type": "code",
   "execution_count": 28,
   "metadata": {
    "collapsed": true
   },
   "outputs": [],
   "source": [
    "def convert_to_hdf5(z):\n",
    "    \"\"\" convert simulation data to hdf5. \n",
    "    \n",
    "        input: z, a string of format 'z2.45'\n",
    "        \n",
    "        returns NONE \n",
    "        \n",
    "        \n",
    "    \n",
    "    \"\"\"\n",
    "    file_list = glob(\"../../../Data/sim_data/\"+z+\"/spec*line*.dat\")\n",
    "    test_file = file_list[0]\n",
    "    data = np.loadtxt(test_file)\n",
    "    \n",
    "    \n",
    "    #take out the dot '.'\n",
    "    stringz = z[:2]+z[3:]\n",
    "    \n",
    "    # Create archive\n",
    "    f = h5py.File(\"../../../Data/\"+stringz+\".hdf5\", 'w')\n",
    "\n",
    "    n_cols = data.shape[1]\n",
    "    n_rows = data.shape[0]\n",
    "    n_files = len(file_list)\n",
    "    \n",
    "\n",
    "\n",
    "    # Create a \"dataset\" which is like a numpy.ndarray\n",
    "    z245 = f.create_dataset(z, dtype=np.float64, \n",
    "                               shape=(n_files, n_rows, n_cols)) #, compression=\"lzf\")\n",
    "\n",
    "    # Fill it with data like you would do for a numpy.ndarray\n",
    "    # TODO: loop over redshift folders too...\n",
    "    for i,fname in enumerate(file_list):\n",
    "        z245[i, :, :] = pd.read_table(fname, header=None, comment='#', delimiter=' ')\n",
    "\n",
    "    # Save associated metadata: \n",
    "    names = [\"velocity [km/s]\", \"tau_HILya\", \"tau_HeI584\", \"tau_HeIILya\", \n",
    "             \"nHI [cm^-3]\", \"nHeII [cm^-3]\", \"Delta_b\", \"T [K]\", \"xpos [Mpc/h]\", \"vpec [km/sec]\"]\n",
    "    z245.attrs['colname'] = names\n",
    "\n",
    "    f.close()\n",
    "    \n",
    "    return None"
   ]
  },
  {
   "cell_type": "markdown",
   "metadata": {},
   "source": [
    "Convert other redshifts folders into hdf5:"
   ]
  },
  {
   "cell_type": "code",
   "execution_count": 29,
   "metadata": {
    "collapsed": true
   },
   "outputs": [],
   "source": [
    "convert_to_hdf5(\"z2.55\")\n",
    "convert_to_hdf5(\"z2.65\")\n",
    "convert_to_hdf5(\"z2.75\")\n",
    "convert_to_hdf5(\"z2.85\")"
   ]
  },
  {
   "cell_type": "markdown",
   "metadata": {},
   "source": [
    "Example:\n",
    "\n",
    "read in the HDF5 file and access the data"
   ]
  },
  {
   "cell_type": "code",
   "execution_count": 4,
   "metadata": {
    "collapsed": true
   },
   "outputs": [],
   "source": [
    "import matplotlib.pyplot as plt\n",
    "%matplotlib inline"
   ]
  },
  {
   "cell_type": "code",
   "execution_count": 5,
   "metadata": {
    "collapsed": true
   },
   "outputs": [],
   "source": [
    "# Open the file stream\n",
    "f = h5py.File('test.hdf5', 'r')"
   ]
  },
  {
   "cell_type": "code",
   "execution_count": 6,
   "metadata": {
    "collapsed": false
   },
   "outputs": [],
   "source": [
    "# f['z2.45'][1, 1, 0] = file, row, col\n",
    "dv = f['z2.45'][1, 1, 0] - f['z2.45'][1, 0, 0]\n",
    "v = np.arange(n_rows*n_files)*dv\n",
    "nHI = f['z2.45'][...,4].flatten()\n",
    "tau_HILya = f['z2.45'][...,1].flatten()"
   ]
  },
  {
   "cell_type": "code",
   "execution_count": 8,
   "metadata": {
    "collapsed": false
   },
   "outputs": [
    {
     "data": {
      "image/png": "[encoded data removed]",
      "text/plain": [
       "<matplotlib.figure.Figure at 0x11c4f4550>"
      ]
     },
     "metadata": {},
     "output_type": "display_data"
    }
   ],
   "source": [
    "plt.plot(v, tau_HILya)\n",
    "plt.title(r\"Lyman-$\\alpha$ opacity across simulation cube\")\n",
    "plt.xlabel(\"velocity [km/s]\")\n",
    "plt.ylabel(r\"$\\tau_{Ly\\alpha}$\")\n",
    "plt.show()"
   ]
  },
  {
   "cell_type": "code",
   "execution_count": null,
   "metadata": {
    "collapsed": true
   },
   "outputs": [],
   "source": []
  }
 ],
 "metadata": {
  "kernelspec": {
   "display_name": "Python 2",
   "language": "python",
   "name": "python2"
  },
  "language_info": {
   "codemirror_mode": {
    "name": "ipython",
    "version": 2
   },
   "file_extension": ".py",
   "mimetype": "text/x-python",
   "name": "python",
   "nbconvert_exporter": "python",
   "pygments_lexer": "ipython2",
   "version": "2.7.11"
  }
 },
 "nbformat": 4,
 "nbformat_minor": 0
}
