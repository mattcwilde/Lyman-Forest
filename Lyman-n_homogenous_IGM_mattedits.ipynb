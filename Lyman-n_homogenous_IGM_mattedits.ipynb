{
 "cells": [
  {
   "cell_type": "markdown",
   "metadata": {},
   "source": [
    "# Lyman-n forest of a homogeneous universe\n",
    "\n",
    "assume a constant density. \n",
    "\n",
    "$$ N_{HI} = 10^{14} \\big(\\frac{dv}{10km s^{-1}}\\big) cm^{-2} $$\n",
    "\n",
    "\n",
    "Then:\n",
    "\n",
    "$$ \\tau_{Ly\\alpha} = 1 \\rightarrow \\tau_{n} = \\frac{gf_{1n}}{gf_{Ly\\alpha}} $$ "
   ]
  },
  {
   "cell_type": "code",
   "execution_count": 1,
   "metadata": {
    "collapsed": true
   },
   "outputs": [],
   "source": [
    "%matplotlib inline\n",
    "import numpy as np\n",
    "from __future__ import division\n",
    "import matplotlib.pyplot as plt\n",
    "from scipy.integrate import quad\n",
    "import astropy.constants as const\n",
    "import astropy.units as u"
   ]
  },
  {
   "cell_type": "markdown",
   "metadata": {},
   "source": [
    "Initial Parameters"
   ]
  },
  {
   "cell_type": "code",
   "execution_count": 2,
   "metadata": {
    "collapsed": false
   },
   "outputs": [],
   "source": [
    "# number of cells\n",
    "N = 5000\n",
    "\n",
    "# make a velocity array with the correspoding length and delta v\n",
    "dv = 100 # km/s\n",
    "v = np.arange(N)*dv\n",
    "\n",
    "# constant column density\n",
    "N_HI_cell = 1e14*(dv/100)\n",
    "\n",
    "c = const.c.to(u.km / u.s).value # km/s\n",
    "R_h = const.Ryd.to(1 / u.Angstrom).value # Rydberg constant in 1 /angstroms"
   ]
  },
  {
   "cell_type": "markdown",
   "metadata": {},
   "source": [
    "$$ \\lambda_{obs} \\approx \\lambda_{emit}\\big(1 + \\frac{dv}{c}\\big)^N $$\n",
    "\n",
    "\n"
   ]
  },
  {
   "cell_type": "markdown",
   "metadata": {},
   "source": [
    "## Cosmology"
   ]
  },
  {
   "cell_type": "code",
   "execution_count": 4,
   "metadata": {
    "collapsed": false
   },
   "outputs": [],
   "source": [
    "def H(zz):\n",
    "    \"\"\" Hubble function. Assumes LCD.\n",
    "    \"\"\"\n",
    "    omega_m = 0.3\n",
    "    omega_lambda = 0.7\n",
    "    omega_r = 1e-5\n",
    "    omega_k = 0.\n",
    "    H0 = 70 # km/s / Mpc\n",
    "    \n",
    "    return H0*np.sqrt(omega_m*(1+zz)**3+omega_r*(1+zz)**4+omega_lambda+omega_k*(1+zz)**2)\n",
    "\n",
    "def dL(zz):\n",
    "    \"\"\" differential Light travel distance.\n",
    "    \"\"\"\n",
    "    c = 3e5 # km/s\n",
    "    return c/((1+zz)*H(zz))\n",
    "    \n",
    "    \n",
    "def L(minz, maxz):\n",
    "    \"\"\"Light travel distance. computed the numerical integral of dL\"\"\"\n",
    "    return quad(dL, minz, maxz)[0]"
   ]
  },
  {
   "cell_type": "markdown",
   "metadata": {},
   "source": [
    "$$ N_{HI}(z) = n_{HI}d = n_{HI} \\int_{z_1}^{z_2} \\frac{cdz}{(1+z)H(z)} $$ \n",
    "\n",
    "where \n",
    "\n",
    "$$ z = \\frac{Ndv}{c} + \\frac{(N(N-1)}{2}\\big(\\frac{dv}{c}\\big)^2 $$"
   ]
  },
  {
   "cell_type": "code",
   "execution_count": 5,
   "metadata": {
    "collapsed": false
   },
   "outputs": [],
   "source": [
    "wav_min = 600.0\n",
    "wav_em = np.zeros(N)\n",
    "# z_em = (wav_obs.max() - wav_em)/wav_min\n",
    "z_em = (wav_em.max() - wav_em)/wav_min\n",
    "\n",
    "dz = np.zeros(N+1)\n",
    "wav_em[0]=wav_min\n",
    "dz[0]=0\n",
    "for i in range(1, N):\n",
    "    wav_em[i] = wav_em[i-1]*(1 + dv/c)\n",
    "    dz[i] = wav_em[i]/wav_min-1\n",
    "\n",
    "# get the proper distance using computed z\n",
    "proper_d = np.zeros(N)\n",
    "for i in range(N-1):\n",
    "    proper_d[i] = L(dz[i], dz[i+1])"
   ]
  },
  {
   "cell_type": "code",
   "execution_count": 6,
   "metadata": {
    "collapsed": false
   },
   "outputs": [
    {
     "data": {
      "text/plain": [
       "array([  0.00000000e+00,   3.33564095e-04,   6.67239455e-04, ...,\n",
       "         4.29559508e+00,   4.29736150e+00,   0.00000000e+00])"
      ]
     },
     "execution_count": 6,
     "metadata": {},
     "output_type": "execute_result"
    }
   ],
   "source": [
    "dz"
   ]
  },
  {
   "cell_type": "markdown",
   "metadata": {},
   "source": [
    "compute the proper distance accross each cell"
   ]
  },
  {
   "cell_type": "code",
   "execution_count": 7,
   "metadata": {
    "collapsed": false
   },
   "outputs": [
    {
     "data": {
      "text/plain": [
       "array([ 1.42920761,  1.42899298,  1.42877822, ...,  0.21251091,\n",
       "        0.21240626,  0.        ])"
      ]
     },
     "execution_count": 7,
     "metadata": {},
     "output_type": "execute_result"
    }
   ],
   "source": [
    "proper_d"
   ]
  },
  {
   "cell_type": "markdown",
   "metadata": {},
   "source": [
    "## Add Lyman continuum opacity"
   ]
  },
  {
   "cell_type": "code",
   "execution_count": null,
   "metadata": {
    "collapsed": true
   },
   "outputs": [],
   "source": [
    "def column_density(z):\n",
    "    chi = 1e-5\n",
    "    "
   ]
  },
  {
   "cell_type": "markdown",
   "metadata": {},
   "source": [
    "compute the column density at each cell"
   ]
  },
  {
   "cell_type": "code",
   "execution_count": null,
   "metadata": {
    "collapsed": false
   },
   "outputs": [],
   "source": [
    "#N_HI = proper_d[::-1] * n_HI"
   ]
  },
  {
   "cell_type": "code",
   "execution_count": null,
   "metadata": {
    "collapsed": false
   },
   "outputs": [],
   "source": [
    "#plt.plot(N_HI)\n",
    "#print N_HI"
   ]
  },
  {
   "cell_type": "code",
   "execution_count": 25,
   "metadata": {
    "collapsed": false
   },
   "outputs": [],
   "source": [
    "lymanlimit = 911.267050642\n",
    "sigma0 = 6.30e-18\n",
    "\n",
    "\n",
    "def find_nearest(array,value):\n",
    "    idx = (np.abs(array-value)).argmin()\n",
    "    return idx\n",
    "\n",
    "\n",
    "# print imax, wav_em[imax], np.sum(wav_em[imax-10:imax]**3)\n",
    "def tau_bf(wave_em, column_density):\n",
    "    lymanlimit = 911.267050642\n",
    "    sigma0 = 6.30e-18\n",
    "    t_bf = np.zeros(N)\n",
    "    imax = find_nearest(wave_em, lymanlimit)\n",
    "    for i in xrange(N):\n",
    "        if i < imax:\n",
    "            t_bf[i] = sigma0*column_density/lymanlimit**3*np.sum(wave_em[i:imax]**3)\n",
    "            \n",
    "    return t_bf"
   ]
  },
  {
   "cell_type": "code",
   "execution_count": 22,
   "metadata": {
    "collapsed": true
   },
   "outputs": [],
   "source": [
    "def tau_bf_vector(wave_em):\n",
    "    \"\"\" My attemp to vectorize tau_bf...\"\"\"\n",
    "    lymanlimit = 911.267050642\n",
    "    sigma0 = 6.30e-18\n",
    "    bf_condition = wave_em < lymanlimit\n",
    "    return sigma0*N_HI_cell/lymanlimit**3*np.sum(wav_em[bf_condition]**3)   "
   ]
  },
  {
   "cell_type": "code",
   "execution_count": 30,
   "metadata": {
    "collapsed": false
   },
   "outputs": [
    {
     "data": {
      "text/plain": [
       "(600, 1300)"
      ]
     },
     "execution_count": 30,
     "metadata": {},
     "output_type": "execute_result"
    },
    {
     "data": {
      "image/png": "[encoded data removed]",
      "text/plain": [
       "<matplotlib.figure.Figure at 0x10e2b0410>"
      ]
     },
     "metadata": {},
     "output_type": "display_data"
    }
   ],
   "source": [
    "t_bf = tau_bf(wav_em, N_HI_cell)\n",
    "plt.plot(wav_em, t_bf)\n",
    "plt.xlim(600, 1300)"
   ]
  },
  {
   "cell_type": "markdown",
   "metadata": {},
   "source": [
    "## Add the Lyman-n Forest"
   ]
  },
  {
   "cell_type": "code",
   "execution_count": 73,
   "metadata": {
    "collapsed": false
   },
   "outputs": [],
   "source": [
    "def tau_Lya(z, rho=1):\n",
    "    \"\"\" From McQuinn IGM revieTw\"\"\"\n",
    "    chi_H = 1e-5 # at z~3\n",
    "    # rho = 1 # no density fluctuations\n",
    "    return 1.3*rho*(chi_H/1e-5)*((1 + z)/4)**(3/2)"
   ]
  },
  {
   "cell_type": "code",
   "execution_count": 93,
   "metadata": {
    "collapsed": true
   },
   "outputs": [],
   "source": [
    "def gf_1n(nn):\n",
    "    \"\"\" A function to calculate the oscillator strengths of of the Lyman series (n'=1).\n",
    "        \n",
    "        Reference: RL equation 10.46 (p.281)\n",
    "    \"\"\"\n",
    "    if nn == 1:\n",
    "        gf = 1.0\n",
    "    elif nn == 0:\n",
    "        gf = 1.0\n",
    "    else:\n",
    "        gf = (2**9 * nn**5 * (nn-1)**(2*nn-4)) / (3*(nn+1)**(2*nn+4))\n",
    "    return gf\n",
    "\n",
    "gf_1n = np.vectorize(gf_1n)\n",
    "\n",
    "\n",
    "def lyman_lambda(nmax):\n",
    "    return (R_h*(1 - (1/nmax**2)))**-1\n",
    "\n",
    "lyman_wav = np.vectorize(lyman_lambda)"
   ]
  },
  {
   "cell_type": "code",
   "execution_count": 94,
   "metadata": {
    "collapsed": false
   },
   "outputs": [],
   "source": [
    "lymanlimit = lyman_wav(100000)"
   ]
  },
  {
   "cell_type": "markdown",
   "metadata": {},
   "source": [
    "$ \\tau_{n} = \\frac{gf_{1n}}{gf_{Ly\\alpha}} \\tau_{Ly\\alpha}$"
   ]
  },
  {
   "cell_type": "code",
   "execution_count": 95,
   "metadata": {
    "collapsed": true
   },
   "outputs": [],
   "source": [
    "tau_n = (gf_1n(np.arange(2,1000))/gf_1n(2))*tau_Lya(0)"
   ]
  },
  {
   "cell_type": "code",
   "execution_count": 96,
   "metadata": {
    "collapsed": false
   },
   "outputs": [],
   "source": [
    "f_n = (gf_1n(np.arange(2,1000))/gf_1n(2))"
   ]
  },
  {
   "cell_type": "code",
   "execution_count": 97,
   "metadata": {
    "collapsed": false
   },
   "outputs": [],
   "source": [
    "# find the wavelength where the line starts in v\n",
    "lambda_n = lyman_lambda(np.arange(2,len(tau_n)+2))"
   ]
  },
  {
   "cell_type": "code",
   "execution_count": 98,
   "metadata": {
    "collapsed": false
   },
   "outputs": [],
   "source": [
    "tau_Ly = np.ones(N)/1.3\n",
    "for f,l in zip(f_n, lambda_n):\n",
    "    # where does wav_em == lyman-n line\n",
    "    i = find_nearest(wav_em,l)\n",
    "    \n",
    "    # stack this opacity on to the opacity array\n",
    "    tau_Ly[i:] += tau_Ly[i]*f"
   ]
  },
  {
   "cell_type": "code",
   "execution_count": 99,
   "metadata": {
    "collapsed": false
   },
   "outputs": [
    {
     "data": {
      "text/plain": [
       "(0, 2.4)"
      ]
     },
     "execution_count": 99,
     "metadata": {},
     "output_type": "execute_result"
    },
    {
     "data": {
      "image/png": "[encoded data removed]",
      "text/plain": [
       "<matplotlib.figure.Figure at 0x10e07b0d0>"
      ]
     },
     "metadata": {},
     "output_type": "display_data"
    }
   ],
   "source": [
    "plt.plot(wav_em, tau_Ly)\n",
    "plt.xlim(700, 1300)\n",
    "plt.ylim(0,2.4)"
   ]
  },
  {
   "cell_type": "code",
   "execution_count": 100,
   "metadata": {
    "collapsed": false
   },
   "outputs": [
    {
     "data": {
      "text/plain": [
       "(600, 1300)"
      ]
     },
     "execution_count": 100,
     "metadata": {},
     "output_type": "execute_result"
    },
    {
     "data": {
      "image/png": "[encoded data removed]",
      "text/plain": [
       "<matplotlib.figure.Figure at 0x10e7705d0>"
      ]
     },
     "metadata": {},
     "output_type": "display_data"
    }
   ],
   "source": [
    "tau_Ly[wav_em < 911.267050642] = 0\n",
    "plt.plot(wav_em, t_bf + tau_Ly)\n",
    "plt.xlim(600, 1300)"
   ]
  },
  {
   "cell_type": "code",
   "execution_count": 101,
   "metadata": {
    "collapsed": false
   },
   "outputs": [
    {
     "data": {
      "text/plain": [
       "(600, 1300)"
      ]
     },
     "execution_count": 101,
     "metadata": {},
     "output_type": "execute_result"
    },
    {
     "data": {
      "image/png": "[encoded data removed]",
      "text/plain": [
       "<matplotlib.figure.Figure at 0x10e8248d0>"
      ]
     },
     "metadata": {},
     "output_type": "display_data"
    }
   ],
   "source": [
    "tau_tot = t_bf + tau_Ly\n",
    "plt.plot(wav_em, np.exp(-tau_tot))\n",
    "plt.xlim(600, 1300)"
   ]
  }
 ],
 "metadata": {
  "kernelspec": {
   "display_name": "Python 2",
   "language": "python",
   "name": "python2"
  },
  "language_info": {
   "codemirror_mode": {
    "name": "ipython",
    "version": 2
   },
   "file_extension": ".py",
   "mimetype": "text/x-python",
   "name": "python",
   "nbconvert_exporter": "python",
   "pygments_lexer": "ipython2",
   "version": "2.7.11"
  }
 },
 "nbformat": 4,
 "nbformat_minor": 0
}
