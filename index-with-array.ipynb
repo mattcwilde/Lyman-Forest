{
 "cells": [
  {
   "cell_type": "markdown",
   "metadata": {},
   "source": [
    "### Here is the code for context. My simple example is below."
   ]
  },
  {
   "cell_type": "markdown",
   "metadata": {},
   "source": [
    "    t_list = []\n",
    "    file_list = glob(path+'sim_data/z2.45/spec_xHeII1_015_mt_line*.dat')\n",
    "    for i,f in enumerate(file_list):\n",
    "        v,t,c1,c2,c3,c4,c5,c6,c7,c8 = np.loadtxt(f, unpack=True)\n",
    "        t_list.append(t)\n",
    "    diffv = v[1] - v[0]"
   ]
  },
  {
   "cell_type": "markdown",
   "metadata": {},
   "source": [
    "    diff_line_list = []\n",
    "\n",
    "    # make a velocity array with the correspoding length and delta v\n",
    "    v_flat = np.arange(0,3000*num_boxes)*diffv\n",
    "\n",
    "    # determine the wavelength of Lyman alpha line:\n",
    "    lambda_alpha = lyman_lambda(2)\n",
    "\n",
    "    # choose num_boxes different files and get their opacity\n",
    "    t_list = np.array(t_list)\n",
    "\n",
    "    for num_lines in [50,100,1000]:\n",
    "        tau_final = []\n",
    "        num_spectra = len(file_list)\n",
    "        for i in range(num_spectra):\n",
    "\n",
    "            # choose 50 random boxes from the 2000 different boxes\n",
    "            t_sublist = t_list[np.random.randint(len(file_list), size=num_boxes),:]\n",
    "\n",
    "            # flatten the array of opacity\n",
    "            tau_flat = np.array(t_sublist).flatten()\n",
    "\n",
    "            # make a deep copy of the flattened opacity array so it doesnt get changed below\n",
    "            # when we +=\n",
    "            tau_n = tau_flat.copy()\n",
    "\n",
    "            # loop through the lyman series\n",
    "            for n in range(3,num_lines):\n",
    "                # find the wavelength where the line starts in v\n",
    "                lambda_n = lyman_lambda(n)\n",
    "\n",
    "                #determine the delta v between the Lyman-a and Lyman-n lines:\n",
    "                delta_v_an = c*np.log(lambda_alpha/lambda_n) # km/s\n",
    "\n",
    "                # determine what index the nth line should appear in the v_flat array\n",
    "                # should probably turn this into an array and read from it\n",
    "                N_n = np.where(abs(v_flat - delta_v_an)/diffv < 0.5)[0][0]\n",
    "\n",
    "                # sum the opacites at the point in the velocity array where they occur\n",
    "                # f_1n[1] = Lyman beta line\n",
    "                tau_n[N_n:] +=  tau_flat[:len(tau_n[N_n:])]*f_1n[n-2]\n",
    "\n",
    "            tau_final.append(tau_n)\n",
    "        tau_final = np.array(tau_final)\n",
    "        tau_final = tau_final.sum(0)\n",
    "        diff_line_list.append(tau_final/num_spectra)"
   ]
  },
  {
   "cell_type": "code",
   "execution_count": 1,
   "metadata": {
    "collapsed": true
   },
   "outputs": [],
   "source": [
    "import numpy as np"
   ]
  },
  {
   "cell_type": "code",
   "execution_count": 4,
   "metadata": {
    "collapsed": false
   },
   "outputs": [
    {
     "ename": "TypeError",
     "evalue": "only integer arrays with one element can be converted to an index",
     "output_type": "error",
     "traceback": [
      "\u001b[0;31m---------------------------------------------------------------------------\u001b[0m",
      "\u001b[0;31mTypeError\u001b[0m                                 Traceback (most recent call last)",
      "\u001b[0;32m<ipython-input-4-f17629a33089>\u001b[0m in \u001b[0;36m<module>\u001b[0;34m()\u001b[0m\n\u001b[1;32m      7\u001b[0m \u001b[0mf_list\u001b[0m \u001b[0;34m=\u001b[0m \u001b[0mnp\u001b[0m\u001b[0;34m.\u001b[0m\u001b[0marray\u001b[0m\u001b[0;34m(\u001b[0m\u001b[0;34m[\u001b[0m\u001b[0;36m0.5\u001b[0m\u001b[0;34m,\u001b[0m\u001b[0;36m0.4\u001b[0m\u001b[0;34m,\u001b[0m\u001b[0;36m0.3\u001b[0m\u001b[0;34m,\u001b[0m\u001b[0;36m0.2\u001b[0m\u001b[0;34m,\u001b[0m\u001b[0;36m0.1\u001b[0m\u001b[0;34m]\u001b[0m\u001b[0;34m)\u001b[0m\u001b[0;34m\u001b[0m\u001b[0m\n\u001b[1;32m      8\u001b[0m \u001b[0;34m\u001b[0m\u001b[0m\n\u001b[0;32m----> 9\u001b[0;31m \u001b[0mx\u001b[0m\u001b[0;34m[\u001b[0m\u001b[0mN\u001b[0m\u001b[0;34m:\u001b[0m\u001b[0;34m]\u001b[0m \u001b[0;34m+=\u001b[0m \u001b[0mx_original\u001b[0m\u001b[0;34m[\u001b[0m\u001b[0;34m:\u001b[0m\u001b[0mlen\u001b[0m\u001b[0;34m(\u001b[0m\u001b[0mx\u001b[0m\u001b[0;34m[\u001b[0m\u001b[0mN\u001b[0m\u001b[0;34m:\u001b[0m\u001b[0;34m]\u001b[0m\u001b[0;34m)\u001b[0m\u001b[0;34m]\u001b[0m\u001b[0;34m*\u001b[0m\u001b[0mf_list\u001b[0m\u001b[0;34m\u001b[0m\u001b[0m\n\u001b[0m\u001b[1;32m     10\u001b[0m \u001b[0;34m\u001b[0m\u001b[0m\n",
      "\u001b[0;31mTypeError\u001b[0m: only integer arrays with one element can be converted to an index"
     ]
    }
   ],
   "source": [
    "x = np.arange(10)\n",
    "x_original = x.copy()\n",
    "\n",
    "# an array of indices determined by N_n = np.where(abs(v_flat - delta_v_an = c*np.log(lambda_alpha/lambda_n))/diffv < 0.5)[0][0]\n",
    "N = np.array([3,5,7,8,9])\n",
    "\n",
    "f_list = np.array([0.5,0.4,0.3,0.2,0.1])\n",
    "\n",
    "x[N:] += x_original[:len(x[N:])]*f_list\n",
    "\n"
   ]
  },
  {
   "cell_type": "code",
   "execution_count": null,
   "metadata": {
    "collapsed": true
   },
   "outputs": [],
   "source": []
  }
 ],
 "metadata": {
  "kernelspec": {
   "display_name": "Python 2",
   "language": "python",
   "name": "python2"
  },
  "language_info": {
   "codemirror_mode": {
    "name": "ipython",
    "version": 2
   },
   "file_extension": ".py",
   "mimetype": "text/x-python",
   "name": "python",
   "nbconvert_exporter": "python",
   "pygments_lexer": "ipython2",
   "version": "2.7.11"
  }
 },
 "nbformat": 4,
 "nbformat_minor": 0
}
