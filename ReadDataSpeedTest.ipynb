{
 "cells": [
  {
   "cell_type": "markdown",
   "metadata": {},
   "source": [
    "# Speed test reading in data files"
   ]
  },
  {
   "cell_type": "markdown",
   "metadata": {},
   "source": [
    "## I know `np.loadtxt` can be really slow. I want to test out a better method.\n",
    "- Python with lists takes ~1 minute\n",
    "- stacking np arrays ~1 minute\n",
    "- Pandas ~12 sec\n",
    "- Julia  ~16 sec\n",
    "- HDF5 = super fast"
   ]
  },
  {
   "cell_type": "code",
   "execution_count": 17,
   "metadata": {
    "collapsed": false
   },
   "outputs": [],
   "source": [
    "import pandas as pd\n",
    "import numpy as np\n",
    "from glob import glob\n",
    "from astropy.table import Table"
   ]
  },
  {
   "cell_type": "code",
   "execution_count": 6,
   "metadata": {
    "collapsed": false
   },
   "outputs": [
    {
     "data": {
      "text/html": [
       "<div>\n",
       "<table border=\"1\" class=\"dataframe\">\n",
       "  <thead>\n",
       "    <tr style=\"text-align: right;\">\n",
       "      <th></th>\n",
       "      <th>velocity [km/s]</th>\n",
       "      <th>tau_HILya</th>\n",
       "      <th>tau_HeI584</th>\n",
       "      <th>tau_HeIILya</th>\n",
       "      <th>nHI [cm^-3]</th>\n",
       "      <th>nHeII [cm^-3]</th>\n",
       "      <th>Delta_b</th>\n",
       "      <th>T [K]</th>\n",
       "      <th>xpos [Mpc/h]</th>\n",
       "      <th>vpec [km/sec]</th>\n",
       "    </tr>\n",
       "  </thead>\n",
       "  <tbody>\n",
       "    <tr>\n",
       "      <th>0</th>\n",
       "      <td>0.8441</td>\n",
       "      <td>0.1120</td>\n",
       "      <td>0.003089</td>\n",
       "      <td>2.868</td>\n",
       "      <td>8.913000e-12</td>\n",
       "      <td>8.913000e-10</td>\n",
       "      <td>3.001</td>\n",
       "      <td>17210</td>\n",
       "      <td>7567</td>\n",
       "      <td>-87.03</td>\n",
       "    </tr>\n",
       "    <tr>\n",
       "      <th>1</th>\n",
       "      <td>1.6880</td>\n",
       "      <td>0.1155</td>\n",
       "      <td>0.003236</td>\n",
       "      <td>3.005</td>\n",
       "      <td>9.094000e-12</td>\n",
       "      <td>9.094000e-10</td>\n",
       "      <td>3.004</td>\n",
       "      <td>17210</td>\n",
       "      <td>7575</td>\n",
       "      <td>-86.82</td>\n",
       "    </tr>\n",
       "    <tr>\n",
       "      <th>2</th>\n",
       "      <td>2.5320</td>\n",
       "      <td>0.1189</td>\n",
       "      <td>0.003373</td>\n",
       "      <td>3.131</td>\n",
       "      <td>9.271000e-12</td>\n",
       "      <td>9.271000e-10</td>\n",
       "      <td>3.005</td>\n",
       "      <td>17190</td>\n",
       "      <td>7583</td>\n",
       "      <td>-86.39</td>\n",
       "    </tr>\n",
       "    <tr>\n",
       "      <th>3</th>\n",
       "      <td>3.3770</td>\n",
       "      <td>0.1224</td>\n",
       "      <td>0.003496</td>\n",
       "      <td>3.246</td>\n",
       "      <td>9.583000e-12</td>\n",
       "      <td>9.583000e-10</td>\n",
       "      <td>3.057</td>\n",
       "      <td>17160</td>\n",
       "      <td>7592</td>\n",
       "      <td>-85.82</td>\n",
       "    </tr>\n",
       "    <tr>\n",
       "      <th>4</th>\n",
       "      <td>4.2210</td>\n",
       "      <td>0.1258</td>\n",
       "      <td>0.003606</td>\n",
       "      <td>3.348</td>\n",
       "      <td>1.000000e-11</td>\n",
       "      <td>1.000000e-09</td>\n",
       "      <td>3.157</td>\n",
       "      <td>17110</td>\n",
       "      <td>7600</td>\n",
       "      <td>-85.24</td>\n",
       "    </tr>\n",
       "  </tbody>\n",
       "</table>\n",
       "</div>"
      ],
      "text/plain": [
       "   velocity [km/s]  tau_HILya  tau_HeI584  tau_HeIILya   nHI [cm^-3]  \\\n",
       "0           0.8441     0.1120    0.003089        2.868  8.913000e-12   \n",
       "1           1.6880     0.1155    0.003236        3.005  9.094000e-12   \n",
       "2           2.5320     0.1189    0.003373        3.131  9.271000e-12   \n",
       "3           3.3770     0.1224    0.003496        3.246  9.583000e-12   \n",
       "4           4.2210     0.1258    0.003606        3.348  1.000000e-11   \n",
       "\n",
       "   nHeII [cm^-3]  Delta_b  T [K]  xpos [Mpc/h]  vpec [km/sec]  \n",
       "0   8.913000e-10    3.001  17210          7567         -87.03  \n",
       "1   9.094000e-10    3.004  17210          7575         -86.82  \n",
       "2   9.271000e-10    3.005  17190          7583         -86.39  \n",
       "3   9.583000e-10    3.057  17160          7592         -85.82  \n",
       "4   1.000000e-09    3.157  17110          7600         -85.24  "
      ]
     },
     "execution_count": 6,
     "metadata": {},
     "output_type": "execute_result"
    }
   ],
   "source": [
    "test_file = \"../../../Data/sim_data/z2.45/spec_xHeII1_015_mt_line0000.dat\"\n",
    "names = [\"velocity [km/s]\", \"tau_HILya\", \"tau_HeI584\", \"tau_HeIILya\", \n",
    "         \"nHI [cm^-3]\", \"nHeII [cm^-3]\", \"Delta_b\", \"T [K]\", \"xpos [Mpc/h]\", \"vpec [km/sec]\"]\n",
    "pd.read_table(test_file, header=0, names=names, delimiter=' ', comment='#')[:5]"
   ]
  },
  {
   "cell_type": "code",
   "execution_count": 12,
   "metadata": {
    "collapsed": false
   },
   "outputs": [],
   "source": [
    "file_list = glob(\"../../../Data/sim_data/z2.45/spec_xHeII1_015_mt_line*.dat\")\n",
    "def py_read_files(file_list):\n",
    "    step = 10\n",
    "    t_list = []\n",
    "    # nHI = []\n",
    "    # file_list = glob(path+'sim_data/z2.45/spec_xHeII1_015_mt_line*.dat')\n",
    "    for f in file_list:\n",
    "        v,t,c1,c2,n,c4,c5,c6,c7,c8 = np.loadtxt(f, unpack=True)\n",
    "        t_list.append(t)\n",
    "        # nHI.append(n)\n",
    "    # diffv = v[1] - v[0]\n",
    "    return t_list\n",
    "\n",
    "def np_read_files(file_list):\n",
    "    t_array = np.zeros(0)\n",
    "    for f in file_list:\n",
    "        v,t,c1,c2,n,c4,c5,c6,c7,c8 = np.loadtxt(f, unpack=True)\n",
    "        np.hstack((t_array, t))\n",
    "    return t_array\n",
    "\n",
    "def pd_vec_read_files(f):\n",
    "    t_array = np.zeros(0)\n",
    "    df = pd.read_table(f, header=None, comment='#', delimiter=' ')\n",
    "    np.hstack((t_array, df.values[1]))\n",
    "\n",
    "pd_vec_read_files = np.vectorize(pd_vec_read_files)\n",
    "    \n",
    "\n",
    "def pd_read_files(infile):\n",
    "    t_array = np.zeros(0)\n",
    "    for f in infile:\n",
    "        df = pd.read_table(f, header=None, comment='#', delimiter=' ')\n",
    "        # n = df.values[4]\n",
    "        np.hstack((t_array, df.values[1]))\n",
    "    return t_array\n",
    "\n",
    "def quick_pd_read(files):\n",
    "    # return pd.concat((pd.read_table(f, header=None, comment='#', delimiter=' ',index_col=False) for f in file_list))\n",
    "    return pd.concat((pd.read_table(f, header=None, comment='#', delimiter=' ') for f in file_list))"
   ]
  },
  {
   "cell_type": "code",
   "execution_count": 15,
   "metadata": {
    "collapsed": false
   },
   "outputs": [
    {
     "name": "stdout",
     "output_type": "stream",
     "text": [
      "1 loops, best of 3: 1min 7s per loop\n"
     ]
    }
   ],
   "source": [
    "%timeit py_read_files(file_list)"
   ]
  },
  {
   "cell_type": "code",
   "execution_count": 14,
   "metadata": {
    "collapsed": false
   },
   "outputs": [
    {
     "name": "stdout",
     "output_type": "stream",
     "text": [
      "1 loops, best of 3: 12.3 s per loop\n"
     ]
    }
   ],
   "source": [
    "%timeit pd_read_files(file_list)"
   ]
  },
  {
   "cell_type": "code",
   "execution_count": 10,
   "metadata": {
    "collapsed": false
   },
   "outputs": [
    {
     "name": "stdout",
     "output_type": "stream",
     "text": [
      "1 loops, best of 3: 12.6 s per loop\n"
     ]
    }
   ],
   "source": [
    "%timeit pd_vec_read_files(file_list)"
   ]
  },
  {
   "cell_type": "code",
   "execution_count": 13,
   "metadata": {
    "collapsed": false
   },
   "outputs": [
    {
     "name": "stdout",
     "output_type": "stream",
     "text": [
      "1 loops, best of 3: 12.5 s per loop\n"
     ]
    }
   ],
   "source": [
    "%timeit quick_pd_read(file_list)"
   ]
  }
 ],
 "metadata": {
  "kernelspec": {
   "display_name": "Python 2",
   "language": "python",
   "name": "python2"
  },
  "language_info": {
   "codemirror_mode": {
    "name": "ipython",
    "version": 2
   },
   "file_extension": ".py",
   "mimetype": "text/x-python",
   "name": "python",
   "nbconvert_exporter": "python",
   "pygments_lexer": "ipython2",
   "version": "2.7.11"
  }
 },
 "nbformat": 4,
 "nbformat_minor": 0
}
