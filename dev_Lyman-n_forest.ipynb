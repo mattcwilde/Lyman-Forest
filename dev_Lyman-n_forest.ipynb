{
 "cells": [
  {
   "cell_type": "code",
   "execution_count": 1,
   "metadata": {
    "collapsed": true
   },
   "outputs": [],
   "source": [
    "%matplotlib inline\n",
    "import numpy as np\n",
    "from __future__ import division\n",
    "import matplotlib.pyplot as plt\n",
    "from scipy.integrate import quad\n",
    "import astropy.constants as const\n",
    "import astropy.units as u\n",
    "import h5py\n",
    "\n",
    "import random\n",
    "\n",
    "from numba import double\n",
    "from numba.decorators import jit, autojit"
   ]
  },
  {
   "cell_type": "code",
   "execution_count": 2,
   "metadata": {
    "collapsed": true
   },
   "outputs": [],
   "source": [
    "c = const.c.to(u.km / u.s).value # km/s"
   ]
  },
  {
   "cell_type": "markdown",
   "metadata": {},
   "source": [
    "# Load in z = 2.45 simulation data\n",
    "\n",
    "Note: It has already been converted to hdf5 using `simdata_to_HDF5.ipynb`\n",
    "\n",
    "We want to average over 2000 random sightlines of 50 boxes (files) across. In order to do this I am creating a (50, 2000) array of random indices. \n",
    "\n",
    "Can set `step` to speed up code by skipping rows\n"
   ]
  },
  {
   "cell_type": "code",
   "execution_count": 3,
   "metadata": {
    "collapsed": true
   },
   "outputs": [],
   "source": [
    "z = 2.45"
   ]
  },
  {
   "cell_type": "markdown",
   "metadata": {},
   "source": [
    "### read in data and set global variables"
   ]
  },
  {
   "cell_type": "code",
   "execution_count": 4,
   "metadata": {
    "collapsed": false
   },
   "outputs": [],
   "source": [
    "f = h5py.File('../../../Data/z245.hdf5', 'r')\n",
    "\n",
    "# speed up code by making bigger steps through data\n",
    "step = 100\n",
    "\n",
    "# make a velocity array with the correspoding length and delta v\n",
    "dv = (f['z2.45'][1, 1, 0] - f['z2.45'][1, 0, 0])*step\n",
    "\n",
    "tau_HILya_data = np.asarray(f['z2.45'][:, ::step, :], dtype=np.float64)\n",
    "n_HI_data = np.asarray(f['z2.45'][:, ::step, :], dtype=np.float64)"
   ]
  },
  {
   "cell_type": "code",
   "execution_count": 5,
   "metadata": {
    "collapsed": false
   },
   "outputs": [
    {
     "name": "stdout",
     "output_type": "stream",
     "text": [
      "84.41\n"
     ]
    }
   ],
   "source": [
    "print dv"
   ]
  },
  {
   "cell_type": "code",
   "execution_count": 6,
   "metadata": {
    "collapsed": false
   },
   "outputs": [
    {
     "data": {
      "text/plain": [
       "(2000, 30, 10)"
      ]
     },
     "execution_count": 6,
     "metadata": {},
     "output_type": "execute_result"
    }
   ],
   "source": [
    "tau_HILya_data.shape"
   ]
  },
  {
   "cell_type": "code",
   "execution_count": 7,
   "metadata": {
    "collapsed": false
   },
   "outputs": [],
   "source": [
    "num_files = tau_HILya_data.shape[0]\n",
    "num_rows = tau_HILya_data.shape[1]\n",
    "num_cells = 90\n",
    "num_lines = 2 # number of Lyman transitions per Haiman et al 2000(?)\n",
    "wav_min = 600.0"
   ]
  },
  {
   "cell_type": "code",
   "execution_count": 8,
   "metadata": {
    "collapsed": false
   },
   "outputs": [],
   "source": [
    "# make random indices array\n",
    "# range from 0, 2000, in a 50 x 2000 shape\n",
    "idx = np.random.randint(num_files, size=(num_cells, num_files))"
   ]
  },
  {
   "cell_type": "markdown",
   "metadata": {},
   "source": [
    "### `tau_HILya` is now a 2000x150000 array (2000 sightlines by 50*num_files)\n",
    "\n",
    "### each sightline is a composed of 50 random files stacked together (flattened)."
   ]
  },
  {
   "cell_type": "code",
   "execution_count": 9,
   "metadata": {
    "collapsed": false
   },
   "outputs": [],
   "source": [
    "tau_HILya = tau_HILya_data[idx,:,1].reshape(num_files,num_cells*num_rows)"
   ]
  },
  {
   "cell_type": "code",
   "execution_count": 10,
   "metadata": {
    "collapsed": true
   },
   "outputs": [],
   "source": [
    "def make_stacks(data, num_files, num_cells, num_rows):\n",
    "    idx = np.random.randint(num_files, size=(num_cells, num_files))\n",
    "    return data[idx,:,1].reshape(num_files,num_cells*num_rows)"
   ]
  },
  {
   "cell_type": "markdown",
   "metadata": {},
   "source": [
    "### Useful functions to compute where in an array are the values equal"
   ]
  },
  {
   "cell_type": "code",
   "execution_count": 11,
   "metadata": {
    "collapsed": false
   },
   "outputs": [],
   "source": [
    "def find_nearest(array,value):\n",
    "    idx = (np.fabs(array-value)).argmin()\n",
    "    return idx\n",
    "\n",
    "@jit\n",
    "def vec_find_nearest(array, values):\n",
    "    idxarr = np.empty_like(values, dtype=np.int32)\n",
    "    for i in xrange(len(values)):\n",
    "        idxarr[i] = (np.fabs(array-values[i])).argmin()\n",
    "    return idxarr"
   ]
  },
  {
   "cell_type": "markdown",
   "metadata": {},
   "source": [
    "# Lyman continuum"
   ]
  },
  {
   "cell_type": "code",
   "execution_count": 12,
   "metadata": {
    "collapsed": true
   },
   "outputs": [],
   "source": [
    "# compute the wavlengths of the transitions\n",
    "def lyman_lambda(nmax):\n",
    "    R_h = const.Ryd.to(1 / u.Angstrom).value # Rydberg constant in 1 /angstroms\n",
    "    return (R_h*(1 - (1/nmax**2)))**-1\n",
    "\n",
    "lyman_wav = np.vectorize(lyman_lambda)\n",
    "\n",
    "# compute the oscillator strengths\n",
    "def gf_1n(nn):\n",
    "    \"\"\" A function to calculate the oscillator strengths of of the Lyman series (n'=1).\n",
    "        \n",
    "        Reference: RL equation 10.46 (p.281)\n",
    "    \"\"\"\n",
    "    if nn > 1.9:\n",
    "        gf = (2**9 * nn**5 * (nn-1)**(2*nn-4)) / (3*(nn+1)**(2*nn+4))\n",
    "        return gf\n",
    "    else:\n",
    "        print \"must input integer >= 2\"\n",
    "\n",
    "gf_1n = np.vectorize(gf_1n)"
   ]
  },
  {
   "cell_type": "markdown",
   "metadata": {},
   "source": [
    "## Calclutate Column density:\n",
    "\n",
    "From Rybicki & Lightman eq 10.70, using the line-center cross section for each atom, neglecting stimulated emission:\n",
    "\n",
    "$$ \\tau = N \\sigma$$\n",
    "\n",
    "$$ \\sigma_{\\nu_{0}} = \\frac{\\pi e^2}{mc} f_{12} \\frac{1}{\\Delta \\nu_{D} \\sqrt{\\pi}} $$ \n",
    "\n",
    "and integrating over $\\nu$ gives:\n",
    "\n",
    "$$ \\sigma_{\\nu_{0}} = \\frac{\\pi e^2}{mc} f_{12} $$\n",
    "\n",
    "then: \n",
    "\n",
    "$$ N_{HI} = \\frac{\\Delta v_i \\tau_{Ly\\alpha} mc}{f_{12} \\pi e^2} $$\n",
    "\n",
    "We need this to compute the Lyman continuum optical depth since there is no spacial information in the data, only velocity. \n",
    "\n",
    "Note: $f_{12} = \\frac{gf_{12}}{2}$ where $g = 2$ is the degeneracy of the electron."
   ]
  },
  {
   "cell_type": "code",
   "execution_count": 13,
   "metadata": {
    "collapsed": false
   },
   "outputs": [],
   "source": [
    "@jit\n",
    "def make_column_density(t_HILya):\n",
    "    m_h = const.m_p.cgs.value\n",
    "    e = const.e.gauss.value\n",
    "    m_e = const.m_e.cgs.value\n",
    "    c_cmsec = const.c.cgs.value\n",
    "    c_kmsec = const.c.to(u.km / u.s).value\n",
    "    lyalpha = lyman_lambda(2)\n",
    "    nuLya = c_cmsec/(lyalpha*1e-8)  #make this prettier!\n",
    "    dnu = nuLya*dv/c_kmsec\n",
    "    \n",
    "    constants = (dnu*m_e*c_cmsec/(np.pi*e**2 * gf_1n(2)/2))\n",
    "    # constants = (dnu*m_e*c_cmsec/(np.pi*e**2 * gf_1n(2)/2))\n",
    "    # 1.6e17 should equal give tau 1\n",
    "    \n",
    "    # print \"for testing: \", m_e, e, nuLya, dnu, c_cmsec, c_kmsec,  constants \n",
    "    nfiles = t_HILya.shape[0]\n",
    "    nwaves = t_HILya.shape[1]\n",
    "    \n",
    "    # print(lyman_lambda(2), gf_1n(2)/2,constants)\n",
    "    \n",
    "    N_HI = np.empty_like(t_HILya, dtype=np.float64)\n",
    "    for i in xrange(nfiles):\n",
    "        for j in xrange(nwaves):\n",
    "            N_HI[i,j] = t_HILya[i,j]*constants\n",
    "    return N_HI"
   ]
  },
  {
   "cell_type": "code",
   "execution_count": 14,
   "metadata": {
    "collapsed": false,
    "scrolled": true
   },
   "outputs": [],
   "source": [
    "N_HI = make_column_density(tau_HILya)"
   ]
  },
  {
   "cell_type": "markdown",
   "metadata": {},
   "source": [
    "### Compute the wavlength as its redshifted across the sightline\n",
    "\n",
    "$$ \\lambda \\approx \\big(1 + \\frac{dv}{c}\\big)^{N} $$\n",
    "\n",
    "$$ \\lambda \\approx N\\big(1 + \\frac{dv}{c}\\big) $$"
   ]
  },
  {
   "cell_type": "code",
   "execution_count": 15,
   "metadata": {
    "collapsed": false
   },
   "outputs": [],
   "source": [
    "# create emitted wavelength array\n",
    "wav_em = np.zeros_like(tau_HILya[1])\n",
    "wav_em[0] = wav_min\n",
    "for i in xrange(1, tau_HILya.shape[1]):\n",
    "    wav_em[i] = wav_em[i-1]*(1 + dv/c)"
   ]
  },
  {
   "cell_type": "code",
   "execution_count": 16,
   "metadata": {
    "collapsed": false
   },
   "outputs": [],
   "source": [
    "@jit\n",
    "def fast_wave_sum(wave_arr, col_dens):\n",
    "    \"\"\" \n",
    "    A function to pre-compute the sum over wavelengths used in tau_bf.\n",
    "    \n",
    "    input: wavelength array\n",
    "    \n",
    "    returns: summed slices of wavelength array\n",
    "    \n",
    "    NOTE: uses Numba (@jit) to speed up over 100x\n",
    "    \n",
    "    \"\"\"\n",
    "    lymanlimit = 911.267050642\n",
    "    imax = find_nearest(wave_arr, lymanlimit)\n",
    "    # tmp = np.ones_like(wave_arr)\n",
    "    tmp = np.zeros_like(wave_arr)\n",
    "    sigma0 = 6.30e-18\n",
    "    ll = lymanlimit*lymanlimit*lymanlimit\n",
    "    for n in xrange(col_dens.shape[0]):\n",
    "        for i in xrange(len(wave_arr)):\n",
    "            # ~4 times faster to multipy instead of power.\n",
    "            # @jit makes this 4 times faster still. \n",
    "            tmp[i] = sigma0*np.sum(wave_arr[i:imax]*wave_arr[i:imax]*wave_arr[i:imax]*col_dens[n,i:imax])/ll\n",
    "    return tmp\n",
    "    \"\"\"    for i in xrange(len(wave_arr)):\n",
    "        for j in xrange(i,imax):\n",
    "        # ~4 times faster to multipy instead of power.\n",
    "        # @jit makes this 4 times faster still. \n",
    "            tmp[j] += wave_arr[j]*wave_arr[j]*wave_arr[j]\n",
    "        tmp[i] *= sigma0/ll\n",
    "    return tmp\"\"\"\n",
    "@jit\n",
    "def tau_bf(wave_arr, col_dens):\n",
    "    \"\"\" \n",
    "    A function to compute the bound free opacity below the lyman limit.\n",
    "    \n",
    "    input: wavelength array, N_HI array (expected to be a nfiles x nrows)\n",
    "    \n",
    "    return: nfiles x nrows array of the bf optial depth\n",
    "    \n",
    "    NOTE: uses Numba (@jit) to speed it up over 100x\n",
    "    \"\"\"\n",
    "    # col_dens = np.ones_like(col_dens)*1e14 # diagnostic\n",
    "    # w = fast_wave_sum(wave_arr)\n",
    "    lymanlimit = 911.267050642\n",
    "    imax = find_nearest(wave_arr, lymanlimit)\n",
    "    ll3 = lymanlimit*lymanlimit*lymanlimit\n",
    "    num_file = col_dens.shape[0]\n",
    "    num_row = col_dens.shape[1]\n",
    "    sigma0 = 6.30e-18\n",
    "    t_bf = np.empty((num_file, num_row), dtype=np.float64)\n",
    "    for j in xrange(num_file):\n",
    "        for i in range(num_row):\n",
    "            t_bf[j,i] = sigma0*np.sum(wave_arr[i:imax]*wave_arr[i:imax]*wave_arr[i:imax]*col_dens[j,i:imax])/ll3\n",
    "    return t_bf"
   ]
  },
  {
   "cell_type": "code",
   "execution_count": 17,
   "metadata": {
    "collapsed": false
   },
   "outputs": [],
   "source": [
    "t_bf = tau_bf(wav_em, N_HI)"
   ]
  },
  {
   "cell_type": "code",
   "execution_count": 18,
   "metadata": {
    "collapsed": false
   },
   "outputs": [
    {
     "data": {
      "image/png": "[encoded data removed]",
      "text/plain": [
       "<matplotlib.figure.Figure at 0x111033990>"
      ]
     },
     "metadata": {},
     "output_type": "display_data"
    }
   ],
   "source": [
    "plt.plot(N_HI[100,:])\n",
    "plt.show()"
   ]
  },
  {
   "cell_type": "code",
   "execution_count": 19,
   "metadata": {
    "collapsed": false
   },
   "outputs": [
    {
     "data": {
      "text/plain": [
       "[<matplotlib.lines.Line2D at 0x110d2a210>]"
      ]
     },
     "execution_count": 19,
     "metadata": {},
     "output_type": "execute_result"
    },
    {
     "data": {
      "image/png": "[encoded data removed]",
      "text/plain": [
       "<matplotlib.figure.Figure at 0x11161ed90>"
      ]
     },
     "metadata": {},
     "output_type": "display_data"
    }
   ],
   "source": [
    "plt.plot(wav_em, t_bf[6,:])"
   ]
  },
  {
   "cell_type": "markdown",
   "metadata": {
    "collapsed": true
   },
   "source": [
    "## Add the Lyman-n Forest\n",
    "\n",
    "$ \\tau_{n} = \\frac{gf_{1n}}{gf_{Ly\\alpha}} \\tau_{Ly\\alpha} = f_n\\tau_{Ly\\alpha}$\n",
    "\n",
    "This function computes the lyman transitions wavelength, finds the corresponding index and adds the opacity due to that line to the total opacity. "
   ]
  },
  {
   "cell_type": "code",
   "execution_count": 20,
   "metadata": {
    "collapsed": false
   },
   "outputs": [],
   "source": [
    "@jit\n",
    "def tau_HILyn(wave_em, t_HILya, nlines, debug=False, mean=False):\n",
    "    \"\"\" This function computes the Lyman-n forest opacity.\n",
    "    \n",
    "        input: emitted wavelength array, Lyman alpha opacity array, number of transitions\n",
    "        \n",
    "        returns: array of opacity in the same shape as tau_HILya\n",
    "    \"\"\"\n",
    "    # array of oscillator strengths\n",
    "    # go backwards since f_n,lambda_n start at lyman alpha\n",
    "    f_n = (gf_1n(np.arange(2,nlines+3))/gf_1n(2))[::-1]\n",
    "    \n",
    "    # array of transition wavelengths\n",
    "    lambda_n = lyman_lambda(np.arange(2,nlines+2))[::-1]\n",
    "    \n",
    "    nfiles = t_HILya.shape[0]\n",
    "    \n",
    "    lymanlimit = 911.267050642\n",
    "    imax = find_nearest(wave_em, lymanlimit)\n",
    "\n",
    "    # make an empty array to add in the Lyman alpha opacity\n",
    "    tau_n = np.zeros_like(t_HILya)\n",
    "    \n",
    "    # where does wave_em == lyman-n line\n",
    "    iarr = vec_find_nearest(wave_em,lambda_n)\n",
    "    \n",
    "    # good for debugging:\n",
    "    # print(f_n,iarr, t_HILya[0,iarr[0]]*f_n[0], wave_em[iarr])\n",
    "    \n",
    "    for n in xrange(nfiles):\n",
    "        # do it for each sightline\n",
    "        for i in range(nlines):\n",
    "            \n",
    "            if debug == False and mean == False:\n",
    "                # stack the opacity onto the opacity array at the index\n",
    "                # where wavelength == nth lyman line\n",
    "                tau_n[n,:iarr[i]] += t_HILya[n,:iarr[i]]*f_n[i]\n",
    "                # print avg\n",
    "            elif mean == True:\n",
    "                tau_n[n,:iarr[i]] += np.mean(t_HILya[n,:iarr[i]])*f_n[i]\n",
    "                # from old code: tau_n[n:] +=  tau_flat[:len(tau_n[n:])]*f_1n[i]\n",
    "                \n",
    "            else:\n",
    "                # good for debugging:\n",
    "                tau_n[n,:iarr[i]] += f_n[i]   \n",
    "                \n",
    "            # tau_n[n,:iarr[i]] += t_HILya[n,:iarr[i]]*f_n[i]\n",
    "            \n",
    "    return tau_n"
   ]
  },
  {
   "cell_type": "code",
   "execution_count": 21,
   "metadata": {
    "collapsed": false
   },
   "outputs": [],
   "source": [
    "t_Ly_mean = tau_HILyn(wav_em, tau_HILya, num_lines, mean=True)\n",
    "t_Ly_homogeneous = tau_HILyn(wav_em, tau_HILya, num_lines, debug=True, mean=False)\n",
    "t_Ly = tau_HILyn(wav_em, tau_HILya, num_lines)"
   ]
  },
  {
   "cell_type": "markdown",
   "metadata": {},
   "source": [
    "What does a random sightlines Lyman-n opacity looks like:"
   ]
  },
  {
   "cell_type": "code",
   "execution_count": 22,
   "metadata": {
    "collapsed": false
   },
   "outputs": [
    {
     "data": {
      "image/png": "[encoded data removed]",
      "text/plain": [
       "<matplotlib.figure.Figure at 0x110d99fd0>"
      ]
     },
     "metadata": {},
     "output_type": "display_data"
    }
   ],
   "source": [
    "plt.plot(wav_em, t_bf[1,:] + t_Ly[1,:], label=i)\n",
    "plt.show()"
   ]
  },
  {
   "cell_type": "markdown",
   "metadata": {},
   "source": [
    "What does a random sightlines combined (Lyman-n & continuum) opacity looks like:"
   ]
  },
  {
   "cell_type": "code",
   "execution_count": 23,
   "metadata": {
    "collapsed": false
   },
   "outputs": [
    {
     "data": {
      "image/png": "[encoded data removed]",
      "text/plain": [
       "<matplotlib.figure.Figure at 0x11163b310>"
      ]
     },
     "metadata": {},
     "output_type": "display_data"
    }
   ],
   "source": [
    "plt.semilogy(wav_em, t_bf[1,:] + t_Ly[1,:])\n",
    "plt.show()"
   ]
  },
  {
   "cell_type": "markdown",
   "metadata": {},
   "source": [
    "Compute the average flux over the 2000 sightlines\n",
    "\n",
    "$$ f = \\langle e^{-\\tau_{bf+bb}} \\rangle $$"
   ]
  },
  {
   "cell_type": "markdown",
   "metadata": {},
   "source": [
    "### Plot the average spectrum and overlay an individual sightline for comparison. "
   ]
  },
  {
   "cell_type": "code",
   "execution_count": 24,
   "metadata": {
    "collapsed": false
   },
   "outputs": [],
   "source": [
    "tau_tot = t_Ly + t_bf\n",
    "tau_tot_mean = t_Ly_mean + t_bf\n",
    "tau_tot_homo = t_Ly_homogeneous + t_bf\n",
    "tau_tot_slice = t_Ly[399,:] + t_bf[399,:]\n",
    "# np.mean more accurate with float 64\n",
    "flux = np.mean(np.exp(-tau_tot*100), axis=0, dtype=np.float64)\n",
    "flux_mean = np.mean(np.exp(-tau_tot_mean*100), axis=0, dtype=np.float64)\n",
    "flux_homo = np.mean(np.exp(-tau_tot_homo*100), axis=0, dtype=np.float64)\n",
    "flux_slice = np.exp(-tau_tot_slice*100)"
   ]
  },
  {
   "cell_type": "code",
   "execution_count": 25,
   "metadata": {
    "collapsed": false
   },
   "outputs": [
    {
     "data": {
      "image/png": "[encoded data removed]",
      "text/plain": [
       "<matplotlib.figure.Figure at 0x11160b790>"
      ]
     },
     "metadata": {},
     "output_type": "display_data"
    }
   ],
   "source": [
    "plt.figure(figsize=(12,6))\n",
    "plt.plot(wav_em, flux, label=\"from data\")\n",
    "plt.plot(wav_em, flux_slice, alpha=0.5, label=\"slice\")\n",
    "plt.plot(wav_em, flux_mean, label=\"mean\")\n",
    "plt.plot(wav_em, flux_homo, label=\"homogeneous\")\n",
    "ref_lines = lyman_lambda(np.arange(2,8))\n",
    "plt.vlines(ref_lines, 0, 1)\n",
    "plt.vlines(912,0,1)\n",
    "plt.xlabel(r\"wavelength $[\\AA]$\")\n",
    "plt.ylabel(r\"Flux\")\n",
    "plt.title(r\"Lyman-n Forest $= \\langle e^{-\\tau_{bf+bb}} \\rangle$\")\n",
    "plt.legend()\n",
    "plt.show()"
   ]
  },
  {
   "cell_type": "markdown",
   "metadata": {
    "collapsed": true
   },
   "source": [
    "# ToDo: \n",
    " - add a mode to include redshift evolution. ie.: after so many boxes shift to a lower redshift\n",
    " \n",
    " - artificially put down column densities from a simplified $N_{HI}$ distribution drawn from a poisson distribution a guassian profile of width 30 km/s\n",
    " \n"
   ]
  },
  {
   "cell_type": "markdown",
   "metadata": {},
   "source": [
    "Matt:\n",
    "\n",
    "number of clusters per bin (N_HI = 10^12.5 to 10^17) = $f L \\Delta N_{HI}$\n",
    "\n",
    "make the clouds gaussian with a width of 20km/s"
   ]
  },
  {
   "cell_type": "markdown",
   "metadata": {
    "collapsed": true
   },
   "source": [
    "# Column Density Distribution"
   ]
  },
  {
   "cell_type": "code",
   "execution_count": 26,
   "metadata": {
    "collapsed": false
   },
   "outputs": [],
   "source": [
    "@jit(nopython=True)\n",
    "def opticalDepthProfile(dvv, NHI):\n",
    "    #sigma = 30 # km/s\n",
    "    #constants = np.sqrt(2*np.pi*sigma*sigma)\n",
    "    #gaussian = np.exp(-v*v/(2*sigma*sigma)) / constants\n",
    "    \n",
    "    \"\"\"use a guassian for now. Formula provided by Anson, but check with R.L.\"\"\"\n",
    "    # constants\n",
    "    c = 29979245800.0 # cm/s\n",
    "    c_km_s = 299792.458 # km/s\n",
    "    e = 4.80320450571e-10 # gauss\n",
    "    m_h = 1.672621777e-24 # g\n",
    "    k = 1.3806488e-16 # cgs\n",
    "    \n",
    "    # velocity dispersion\n",
    "    T = 1e4 # Kelvin\n",
    "    #sigma_v_squared = 2*k*T/m_h*1e-10 # (km/s)^2\n",
    "    # should be this\n",
    "    sigma_v_squared = 32*32\n",
    "    \n",
    "    # print np.sqrt(sigma_v_squared)*u.km / u.s\n",
    "    \n",
    "    \n",
    "    # cross section at line center why is this wrong???\n",
    "    # sigma_Lya = 1 / (np.pi*e**2 * gf_1n(2) / m_h*c)\n",
    "    sigma_Lya = 4.45e-18\n",
    "    \n",
    "    # opacity profile\n",
    "    tau_v = c_km_s*sigma_Lya*NHI*np.exp(-dvv*dvv/sigma_v_squared)/np.sqrt(sigma_v_squared * np.pi)\n",
    "    \n",
    "    return tau_v"
   ]
  },
  {
   "cell_type": "markdown",
   "metadata": {},
   "source": [
    "# Cosmology"
   ]
  },
  {
   "cell_type": "code",
   "execution_count": 27,
   "metadata": {
    "collapsed": true
   },
   "outputs": [],
   "source": [
    "@jit\n",
    "def H(zz):\n",
    "    \"\"\" returns Hubble parameter as a function of z in units of km/s/Mpc\n",
    "    \"\"\"\n",
    "    omega_m = 0.3\n",
    "    H0 = 70 # km/s/Mpc\n",
    "    return H0*np.sqrt(omega_m*(1 + zz)**3)\n",
    "    "
   ]
  },
  {
   "cell_type": "code",
   "execution_count": 28,
   "metadata": {
    "collapsed": false
   },
   "outputs": [
    {
     "data": {
      "text/plain": [
       "245.68990363871285"
      ]
     },
     "execution_count": 28,
     "metadata": {},
     "output_type": "execute_result"
    }
   ],
   "source": [
    "H(z)"
   ]
  },
  {
   "cell_type": "markdown",
   "metadata": {},
   "source": [
    "$$ f(N_{HI},z) = A N^{-\\beta}_{HI} (1 + z)^{\\gamma} $$\n",
    "\n",
    "from http://arxiv.org/pdf/1105.2039.pdf \n",
    "\n",
    "To convert from $$\\frac{\\delta^2 N}{\\partial N_{HI} \\partial z}$$ to $$\\frac{\\partial^2 N}{\\partial N_{HI} \\partial v}$$\n",
    "\n",
    "with $$ \\frac{dz}{1+z} = \\frac{dv}{c} $$ \n",
    "\n",
    "\n",
    "$$\\frac{\\partial^2 N}{\\partial N_{HI} \\partial z} \\frac{\\partial z}{\\partial v} = \\frac{A N^{-\\beta}_{HI} (1 + z)^{\\gamma + 1}}{c} $$\n"
   ]
  },
  {
   "cell_type": "code",
   "execution_count": 57,
   "metadata": {
    "collapsed": false
   },
   "outputs": [],
   "source": [
    "@jit\n",
    "def f_NHI(A, beta, gamma, NHI, zz):\n",
    "    c_kms = 299792.0 # km/s\n",
    "    return A * NHI**(-beta) * (1 + zz)**(gamma+1) / c_kms\n",
    "\n",
    "# @jit\n",
    "def CDDF(NHI,zz):\n",
    "    \"\"\" if 1e11 < NHI < 1e15:\n",
    "        beta = 1.5\n",
    "        A = 10**7.079 # cm^-2 (-beta - 1)\n",
    "        gamma = 3.0\n",
    "        return A * NHI**(-beta) * (1 + zz)**gamma\n",
    "    elif 1e15 < NHI < 10**17.5:\n",
    "        beta = 2.0\n",
    "        A = 10**14.580\n",
    "        gamma = 3\n",
    "        return A * NHI**(-beta) * (1 + zz)**gamma\n",
    "    else:\n",
    "        print(\"wrong paramter space\")\n",
    "        return None\"\"\"\n",
    "    \n",
    "    if z < 1.56 or z > 5.5:\n",
    "        print(\"Redshift above 5.5 or below 1.56\")\n",
    "        return None\n",
    "    elif 1e11 < NHI <= 1e15:\n",
    "        beta = 1.5\n",
    "        A = 10**7.079 # cm^-2 (-beta - 1)\n",
    "        gamma = 3.0\n",
    "        return f_NHI(A, beta, gamma, NHI, zz)\n",
    "    elif 1e15 < NHI <= 10**17.5:\n",
    "        beta = 2.0\n",
    "        A = 10**14.580 # cm^-2 (-beta - 1)\n",
    "        gamma = 3\n",
    "        return f_NHI(A, beta, gamma, NHI, zz)\n",
    "    elif 10**17.5 < NHI <= 1e19:\n",
    "        # from Haardt and Madau http://arxiv.org/pdf/1105.2039.pdf\n",
    "        \"\"\"There is obviously a significant mismatch between the power-law exponent \n",
    "        for the Lyα clouds (γ = 3) and the SLLSs (γ = 1.27). Continuity then requires \n",
    "        the shape of f(NHI, z) to change with redshift over the column density range \n",
    "        of the Lyman-limit systems (LLSs), 10^17.5 < NHI < 10^19 cm−2. In this interval \n",
    "        of column densities we match the distribution function with a power law of \n",
    "        redshift-dependent slope. The procedure yields the slopes\n",
    "        β = 0.47, 0.61, 0.72, 0.82 at redshifts z = 2, 3, 4, 5, respectively, \n",
    "        in agreement with Prochaska et al. (2010) who find for the LSSs \n",
    "        β = 0.8+0.4−0.2 at z ≈ 3.5.\"\"\"\n",
    "        \n",
    "        # the problem is that the normalization constant changes with z: A(z).\n",
    "        # A = 10**(-0.347)/17402979.94481856 ??\n",
    "        \n",
    "        ## NOTE: temp fix for normalization. need to match CDDF at boundary\n",
    "        ## at z=2.45 A = 1/vecCDDF(10**17.51,2.45)/vecCDDF(10**17.5,2.45)\n",
    "        ## which implies A = 1/38692217.4381\n",
    "        \n",
    "        ## use z = 3.6 to match prochaska et al 2009 mean free path\n",
    "        \n",
    "        gamma = 3 \n",
    "        A = 1. # /vecCDDF(10**17.51,zz)/vecCDDF(10**17.5,zz)\n",
    "        if 2 <= zz < 3:\n",
    "            A = 1/38692217.4381\n",
    "            beta = 0.61\n",
    "            return f_NHI(A, beta, gamma, NHI, zz)/(1 + zz)**(gamma+1)\n",
    "        elif 3 <= zz < 4:\n",
    "            # beta = 0.72 haardt and madua value\n",
    "            beta = 0.8 # prochaska 2009\n",
    "            A = 1/5767.2486131289397\n",
    "            return f_NHI(A, beta, gamma, NHI, zz)/(1 + zz)**(gamma+1)\n",
    "        elif 4 <= zz < 5:\n",
    "            beta = 0.82\n",
    "            return f_NHI(A, beta, gamma, NHI, zz)/(1 + zz)**(gamma+1)\n",
    "        else:\n",
    "            print(\"chose wrong parameter space in LLS regime\")\n",
    "    elif 10**19 <= NHI < 10**20.3:\n",
    "        beta = 1.05\n",
    "        A = 10**(-0.347) # cm^-2 (-beta - 1)\n",
    "        gamma = 1.27\n",
    "        return f_NHI(A, beta, gamma, NHI, zz)\n",
    "            \n",
    "    else:\n",
    "        print(\"wrong paramter space\")\n",
    "        return None\n",
    "    \n",
    "    \n",
    "# In order to input an array of NHI in CDDF, need to vectorize.\n",
    "vecCDDF = np.vectorize(CDDF)"
   ]
  },
  {
   "cell_type": "code",
   "execution_count": 58,
   "metadata": {
    "collapsed": true
   },
   "outputs": [],
   "source": [
    "@jit\n",
    "def singleCDDF(NHI,beta,zz):\n",
    "    \n",
    "    # My first attempt at a distribution\n",
    "    #dN_dxdNHI = 1/(300*u.Mpc)*((1e17*u.cm**-2)**(1.5)) * (NHI*u.cm**-2)**(-1.5)\n",
    "    dN_dxdNHI = -(1 - beta)/(300)*((1e17)**(-(1 - beta))) * (NHI)**(-beta)\n",
    "    dN_dvdNHI = dN_dxdNHI * (1+zz) / H(zz)\n",
    "    return dN_dvdNHI\n",
    "\n",
    "#oldCDDF = np.vectorize(oldCDDF)"
   ]
  },
  {
   "cell_type": "markdown",
   "metadata": {},
   "source": [
    "As a check, we get 2.34e-5 systems with $N_{HI} = 1 \\times 10^{17}$ cm$^{2}$per km/s so $2$ per $100000$ km/s for the old CDDF (our crude first attempt) and 1.2e-6 for the CDDF from Haardt & Madau (2010)"
   ]
  },
  {
   "cell_type": "code",
   "execution_count": 59,
   "metadata": {
    "collapsed": false
   },
   "outputs": [
    {
     "data": {
      "text/plain": [
       "2.340348510395193e-06"
      ]
     },
     "execution_count": 59,
     "metadata": {},
     "output_type": "execute_result"
    }
   ],
   "source": [
    "singleCDDF(1e19,1.5,2.45)*1e19"
   ]
  },
  {
   "cell_type": "markdown",
   "metadata": {},
   "source": [
    "# perhaps make $\\beta(z)$ and $A(z)$?"
   ]
  },
  {
   "cell_type": "code",
   "execution_count": 60,
   "metadata": {
    "collapsed": false
   },
   "outputs": [
    {
     "data": {
      "text/plain": [
       "[<matplotlib.lines.Line2D at 0x1103b8850>]"
      ]
     },
     "execution_count": 60,
     "metadata": {},
     "output_type": "execute_result"
    },
    {
     "data": {
      "image/png": "[encoded data removed]",
      "text/plain": [
       "<matplotlib.figure.Figure at 0x117b02090>"
      ]
     },
     "metadata": {},
     "output_type": "display_data"
    }
   ],
   "source": [
    "betas = [0.47, 0.61, 0.72, 0.82] \n",
    "redshifts = [2, 3, 4, 5]\n",
    "\n",
    "plt.plot(redshifts, betas)"
   ]
  },
  {
   "cell_type": "markdown",
   "metadata": {},
   "source": [
    "# Attempt at making normalization a function of z...but should also depend on beta which is itself a function of z for the LLS"
   ]
  },
  {
   "cell_type": "code",
   "execution_count": 61,
   "metadata": {
    "collapsed": false
   },
   "outputs": [
    {
     "name": "stdout",
     "output_type": "stream",
     "text": [
      "2.12512655204e+14\n",
      "6.64953630349e+14\n"
     ]
    }
   ],
   "source": [
    "A2high = (vecCDDF(10**17.51,2.99)/vecCDDF(10**17.50,2.99))*10**14.580\n",
    "print A2high\n",
    "A2low = (vecCDDF(10**17.51,2.0)/vecCDDF(10**17.50,2.0))*10**14.580\n",
    "print A2low\n",
    "\n",
    "# print vecCDDF(10**17.50,2.99)\n",
    "\n",
    "\n",
    "def A_LLS(zz):\n",
    "    b = A2high - A2low\n",
    "    A = 10**14.580\n",
    "    c = A - b*zz\n",
    "    \n",
    "    return (high - low)*zz + c"
   ]
  },
  {
   "cell_type": "code",
   "execution_count": 62,
   "metadata": {
    "collapsed": false
   },
   "outputs": [
    {
     "ename": "NameError",
     "evalue": "global name 'high' is not defined",
     "output_type": "error",
     "traceback": [
      "\u001b[0;31m---------------------------------------------------------------------------\u001b[0m",
      "\u001b[0;31mNameError\u001b[0m                                 Traceback (most recent call last)",
      "\u001b[0;32m<ipython-input-62-4d31a8917395>\u001b[0m in \u001b[0;36m<module>\u001b[0;34m()\u001b[0m\n\u001b[0;32m----> 1\u001b[0;31m \u001b[0;32mprint\u001b[0m \u001b[0mA_LLS\u001b[0m\u001b[0;34m(\u001b[0m\u001b[0;36m3\u001b[0m\u001b[0;34m)\u001b[0m\u001b[0;34m\u001b[0m\u001b[0m\n\u001b[0m\u001b[1;32m      2\u001b[0m \u001b[0;32mprint\u001b[0m \u001b[0;36m10\u001b[0m\u001b[0;34m**\u001b[0m\u001b[0;36m14.580\u001b[0m\u001b[0;34m\u001b[0m\u001b[0m\n",
      "\u001b[0;32m<ipython-input-61-ae82eb5ffefd>\u001b[0m in \u001b[0;36mA_LLS\u001b[0;34m(zz)\u001b[0m\n\u001b[1;32m     12\u001b[0m     \u001b[0mc\u001b[0m \u001b[0;34m=\u001b[0m \u001b[0mA\u001b[0m \u001b[0;34m-\u001b[0m \u001b[0mb\u001b[0m\u001b[0;34m*\u001b[0m\u001b[0mzz\u001b[0m\u001b[0;34m\u001b[0m\u001b[0m\n\u001b[1;32m     13\u001b[0m \u001b[0;34m\u001b[0m\u001b[0m\n\u001b[0;32m---> 14\u001b[0;31m     \u001b[0;32mreturn\u001b[0m \u001b[0;34m(\u001b[0m\u001b[0mhigh\u001b[0m \u001b[0;34m-\u001b[0m \u001b[0mlow\u001b[0m\u001b[0;34m)\u001b[0m\u001b[0;34m*\u001b[0m\u001b[0mzz\u001b[0m \u001b[0;34m+\u001b[0m \u001b[0mc\u001b[0m\u001b[0;34m\u001b[0m\u001b[0m\n\u001b[0m",
      "\u001b[0;31mNameError\u001b[0m: global name 'high' is not defined"
     ]
    }
   ],
   "source": [
    "print A_LLS(3)\n",
    "print 10**14.580"
   ]
  },
  {
   "cell_type": "code",
   "execution_count": 63,
   "metadata": {
    "collapsed": false
   },
   "outputs": [
    {
     "data": {
      "text/plain": [
       "1.0"
      ]
     },
     "execution_count": 63,
     "metadata": {},
     "output_type": "execute_result"
    }
   ],
   "source": [
    "# c2 = vecCDDF(10**17.51,3.5)/vecCDDF(10**17.5,3.6)\n",
    "# c3 = vecCDDF(10**17.51,3.6)/vecCDDF(10**17.5,3.6)\n",
    "\n",
    "# plt.plot([3.5,2.99],[c2,c3])\n",
    "\n",
    "vecCDDF(10**17.51,3.6)/vecCDDF(10**17.5,3.6)"
   ]
  },
  {
   "cell_type": "code",
   "execution_count": 64,
   "metadata": {
    "collapsed": false
   },
   "outputs": [
    {
     "data": {
      "text/plain": [
       "[<matplotlib.lines.Line2D at 0x110d06210>]"
      ]
     },
     "execution_count": 64,
     "metadata": {},
     "output_type": "execute_result"
    },
    {
     "data": {
      "image/png": "[encoded data removed]",
      "text/plain": [
       "<matplotlib.figure.Figure at 0x110c29bd0>"
      ]
     },
     "metadata": {},
     "output_type": "display_data"
    }
   ],
   "source": [
    "test_z = 3.6\n",
    "fig, ax = plt.subplots(ncols=2,figsize=(15,6))\n",
    "N = np.logspace(12,19,100)\n",
    "ax[0].plot(np.log10(N),np.log10(vecCDDF(N,test_z)))\n",
    "ax[1].plot(np.log10(N),np.log10(singleCDDF(N,1.5,test_z)))"
   ]
  },
  {
   "cell_type": "markdown",
   "metadata": {},
   "source": [
    "# A Faster make Synthetic Skewer function\n",
    "\n",
    "put things in arrays so loops are quicker"
   ]
  },
  {
   "cell_type": "code",
   "execution_count": 35,
   "metadata": {
    "collapsed": true
   },
   "outputs": [],
   "source": [
    "@jit(nopython=True)\n",
    "def makeOptArray(NHI):\n",
    "    \"\"\" Make an array of optical depth profile arrays with the shape corresponding to\n",
    "        the number of column density \"\"\"\n",
    "    M = NHI.shape[0]\n",
    "    # N = opticalDepthProfileArray(imax,NHI[0]).shape[0]\n",
    "    N = 2*imax\n",
    "    optArray = np.empty((M, N), dtype=np.float32)\n",
    "    for j,iNHI in enumerate(NHI):\n",
    "        for i in xrange(-imax, imax, 1):\n",
    "            optArray[j,i] = (opticalDepthProfile(i, iNHI))\n",
    "    return optArray\n",
    "\n",
    "@jit(nopython=True)\n",
    "def numba_poisson(X):\n",
    "    num_absorbers = np.empty_like(X,dtype=np.int32)\n",
    "    for i,x in enumerate(X):\n",
    "        num_absorbers[i] = np.random.poisson(x)\n",
    "    return num_absorbers\n",
    "\n",
    "@jit(nopython=True)\n",
    "def numba_randint(low, high, size):\n",
    "    rand = np.empty(size, dtype=np.int64)\n",
    "    for i in xrange(size):\n",
    "        rand[i] = np.random.randint(low,high)\n",
    "    return rand"
   ]
  },
  {
   "cell_type": "code",
   "execution_count": 68,
   "metadata": {
    "collapsed": false
   },
   "outputs": [],
   "source": [
    "@jit(nopython=True)\n",
    "def makeOptArray(NHI):\n",
    "    \"\"\" Make an array of optical depth profile arrays with the shape corresponding to\n",
    "        the number of column density \"\"\"\n",
    "    M = NHI.shape[0]\n",
    "    # N = opticalDepthProfileArray(imax,NHI[0]).shape[0]\n",
    "    N = 2*imax\n",
    "    optArray = np.empty((M, N), dtype=np.float32)\n",
    "    for j,iNHI in enumerate(NHI):\n",
    "        for i in xrange(-imax, imax, 1):\n",
    "            optArray[j,i] = (opticalDepthProfile(i, iNHI))\n",
    "    return optArray\n",
    "\n",
    "@jit(nopython=True)\n",
    "def numba_poisson(X):\n",
    "    num_absorbers = np.empty_like(X,dtype=np.int32)\n",
    "    for i,x in enumerate(X):\n",
    "        num_absorbers[i] = np.random.poisson(x)\n",
    "    return num_absorbers\n",
    "\n",
    "@jit(nopython=True)\n",
    "def numba_randint(low, high, size):\n",
    "    rand = np.empty(size, dtype=np.int64)\n",
    "    for i in xrange(size):\n",
    "        rand[i] = np.random.randint(low,high)\n",
    "    return rand\n",
    "\n",
    "@jit\n",
    "def fast_makeSyntheticSkewer(z, beta):\n",
    "    \"\"\" creates a skewer with a column density distribution drawn from a power law with\n",
    "        an exponent of beta.\n",
    "        \n",
    "        Numba speed up is 10x but not fully working on the array slicing at the bottom\n",
    "    \n",
    "    \"\"\"\n",
    "    width = 30. # km/s\n",
    "    # From Anson:\n",
    "    #This is just a sketch of how you might want to code the contruction\n",
    "    #of random spectra (not meant to be working code). You will have to define\n",
    "    #the constants and functions that are relevant for your calculation. \n",
    "    #I extracted this fragment from some of Matt McQuinn's code\n",
    "\n",
    "    #Set the span of the line profiles of your absorbers.  Here width\n",
    "    #is the resolution element of your mock spectrum.   \n",
    "    imax = int(900./width)\n",
    "\n",
    "    logNMAX = 19.0\n",
    "    logNMIN = 12.5\n",
    "\n",
    "    skewer = np.zeros_like(wav_em)\n",
    "    skewer_size = len(skewer) \n",
    "    skewer_length = skewer_size*dv # km/s\n",
    "\n",
    "    #You will first want to set the number of logarithmic bins in NHI\n",
    "    numN = 40\n",
    "    dlogN = (logNMAX-logNMIN)/numN\n",
    "\n",
    "    # an array of column densities\n",
    "    NHI = 10**(dlogN*np.arange(numN) + logNMIN)\n",
    "\n",
    "    # an array of the number of absorbers per dNHI (so an array of 20 num_absorbers)\n",
    "    # num_absorbers = np.random.poisson(skewer_length*CDDF(NHI,-1.5,z)*dlogN*NHI)\n",
    "    num_absorbers = numba_poisson(skewer_length*singleCDDF(NHI,beta,z)*dlogN*NHI)\n",
    "\n",
    "    # Make an array of optical depth profile arrays with the shape corresponding to\n",
    "    # the number of column density bins x the length of the optical depth profiles \n",
    "    M = numN\n",
    "    N = 2*imax\n",
    "    optArray = np.empty((M, N), dtype=np.float32)\n",
    "    for j,iNHI in enumerate(NHI):\n",
    "        for i in xrange(-imax, imax, 1):\n",
    "            optArray[j,i] = opticalDepthProfile(i, iNHI)\n",
    "\n",
    "    # an array of random points from 0 to skewer_size \n",
    "    # make the size the largest number of absorbers\n",
    "    random_point = numba_randint(0,skewer_size+1, np.max(num_absorbers))\n",
    "    \n",
    "    for k in xrange(numN):\n",
    "        for j in xrange(num_absorbers[k]):\n",
    "            start = (random_point[j]-imax + skewer_size)%skewer_size\n",
    "            stop = (random_point[j]+imax + skewer_size)%skewer_size\n",
    "            # if the random point is too near the edge it fails...\n",
    "            if start > stop:\n",
    "                # nopython=True fails here...dont know why\n",
    "                # TypeError: Cannot modify value of type readonly array(float64, 1d, C)\n",
    "                skewer[start:] += optArray[k,:skewer_size - start]\n",
    "                skewer[:stop] += optArray[k,skewer_size - start:]\n",
    "            else:\n",
    "                skewer[start:stop] += optArray[k,:]\n",
    "    return skewer"
   ]
  },
  {
   "cell_type": "code",
   "execution_count": 71,
   "metadata": {
    "collapsed": true
   },
   "outputs": [],
   "source": [
    "def makeSkewerArray(numSkewers, z, beta):\n",
    "    return np.asarray([fast_makeSyntheticSkewer(z, beta) for x in xrange(numSkewers)])"
   ]
  },
  {
   "cell_type": "code",
   "execution_count": 97,
   "metadata": {
    "collapsed": false
   },
   "outputs": [],
   "source": [
    "def makeSkewerArray(numSkewers, z, beta):\n",
    "    N = numSkewers\n",
    "    skewer_list = []\n",
    "    for i in xrange(N):\n",
    "        skewer_list.append(fast_makeSyntheticSkewer(z, beta))\n",
    "            \n",
    "    return np.asarray(skewer_list)"
   ]
  },
  {
   "cell_type": "code",
   "execution_count": 98,
   "metadata": {
    "collapsed": false
   },
   "outputs": [
    {
     "name": "stdout",
     "output_type": "stream",
     "text": [
      "100 loops, best of 3: 1.91 ms per loop\n"
     ]
    }
   ],
   "source": [
    "%timeit makeSkewerArray(10,3.6,1.5)"
   ]
  },
  {
   "cell_type": "markdown",
   "metadata": {},
   "source": [
    "# Plot the synthetic spectra"
   ]
  },
  {
   "cell_type": "code",
   "execution_count": null,
   "metadata": {
    "collapsed": true
   },
   "outputs": [],
   "source": [
    "def makeSpectra(num_lines, z, numSkewers, beta):\n",
    "    synth_arr = makeSkewerArray(numSkewers,z, beta)\n",
    "    tau_Lya_synth = tau_HILyn(wav_em, synth_arr, num_lines)\n",
    "    N_HI_synth = make_column_density(synth_arr)\n",
    "    t_bf_synth = tau_bf(wav_em, N_HI_synth)\n",
    "    tau_tot_synth = tau_Lya_synth + t_bf_synth\n",
    "    flux = np.mean(np.exp(-tau_tot_synth), axis=0, dtype=np.float64)\n",
    "    plt.plot(wav_em, flux,label=\"mean\")\n",
    "    plt.plot(wav_em, np.exp(-tau_tot_synth[0]),label=\"single skewer\")\n",
    "    plt.legend()\n",
    "    plt.xlim(850,970)"
   ]
  },
  {
   "cell_type": "code",
   "execution_count": null,
   "metadata": {
    "collapsed": false
   },
   "outputs": [],
   "source": [
    "makeSpectra(100,z,150, 1.5)"
   ]
  },
  {
   "cell_type": "code",
   "execution_count": 66,
   "metadata": {
    "collapsed": true
   },
   "outputs": [],
   "source": [
    "def makeSpectra_bf(num_lines, z, numSkewers, beta):\n",
    "    synth_arr = makeSkewerArray(numSkewers, z, beta)\n",
    "    tau_Lya_synth = tau_HILyn(wav_em, synth_arr, num_lines)\n",
    "    N_HI_synth = make_column_density(synth_arr)\n",
    "    t_bf_synth = tau_bf(wav_em, N_HI_synth)\n",
    "    tau_tot_synth = t_bf_synth\n",
    "    flux = np.mean(np.exp(-tau_tot_synth), axis=0, dtype=np.float64)\n",
    "    plt.plot(wav_em, flux,label=\"mean\")\n",
    "    plt.plot(wav_em, np.exp(-tau_tot_synth[19]),label=\"single skewer\")\n",
    "    #plt.plot(wav_em, np.exp(-tau_tot_synth[1]),label=\"single skewer\")\n",
    "    #plt.plot(wav_em, np.exp(-tau_tot_synth[21]),label=\"single skewer\")\n",
    "    #plt.plot(wav_em, np.exp(-tau_tot_synth[17]),label=\"single skewer\")\n",
    "    #plt.plot(wav_em, np.exp(-tau_tot_synth[11]),label=\"single skewer\")\n",
    "    plt.legend()\n",
    "    plt.xlim(850,970)"
   ]
  },
  {
   "cell_type": "code",
   "execution_count": 99,
   "metadata": {
    "collapsed": false
   },
   "outputs": [
    {
     "data": {
      "image/png": "[encoded data removed]",
      "text/plain": [
       "<matplotlib.figure.Figure at 0x1113da910>"
      ]
     },
     "metadata": {},
     "output_type": "display_data"
    }
   ],
   "source": [
    "makeSpectra_bf(100,z,150, 1.8)\n",
    "makeSpectra_bf(100,z,150, 1.5)"
   ]
  },
  {
   "cell_type": "code",
   "execution_count": null,
   "metadata": {
    "collapsed": true
   },
   "outputs": [],
   "source": [
    "def makeSpectra_Lyn(num_lines, z, numSkewers):\n",
    "    synth_arr = makeSkewerArray(numSkewers,z)\n",
    "    tau_Lya_synth = tau_HILyn(wav_em, synth_arr, num_lines)\n",
    "    N_HI_synth = make_column_density(synth_arr)\n",
    "    t_bf_synth = tau_bf(wav_em, N_HI_synth)\n",
    "    tau_tot_synth = tau_Lya_synth\n",
    "    flux = np.mean(np.exp(-tau_tot_synth), axis=0, dtype=np.float64)\n",
    "    plt.plot(wav_em, flux,label=\"mean\")\n",
    "    plt.plot(wav_em, np.exp(-tau_tot_synth[150]),label=\"single skewer\")\n",
    "    plt.legend()\n",
    "    # plt.xlim(850,970)"
   ]
  },
  {
   "cell_type": "code",
   "execution_count": null,
   "metadata": {
    "collapsed": false
   },
   "outputs": [],
   "source": [
    "makeSpectra_Lyn(100,z,2000)"
   ]
  },
  {
   "cell_type": "markdown",
   "metadata": {},
   "source": [
    "# compute the variance as a function of wavelength "
   ]
  },
  {
   "cell_type": "code",
   "execution_count": null,
   "metadata": {
    "collapsed": true
   },
   "outputs": [],
   "source": [
    "def continuum_variance(z, numSkewers,beta):\n",
    "    synth_arr = makeSkewerArray(numSkewers,z,beta)\n",
    "    # tau_Lya_synth = tau_HILyn(wav_em, synth_arr, num_lines)\n",
    "    N_HI_synth = make_column_density(synth_arr)\n",
    "    t_bf_synth = tau_bf(wav_em, N_HI_synth)\n",
    "    tau_tot_synth = t_bf_synth\n",
    "    flux = np.exp(-tau_tot_synth)\n",
    "    mean = np.mean(np.exp(-tau_tot_synth), axis=0, dtype=np.float64)\n",
    "    # print flux.shape\n",
    "    var = np.sqrt(np.var(flux,axis=0))/mean\n",
    "    return var\n",
    "\n",
    "def total_variance(z, numSkewers):\n",
    "    synth_arr = makeSkewerArray(numSkewers,z)\n",
    "    tau_Lya_synth = tau_HILyn(wav_em, synth_arr, num_lines)\n",
    "    N_HI_synth = make_column_density(synth_arr)\n",
    "    t_bf_synth = tau_bf(wav_em, N_HI_synth)\n",
    "    tau_tot_synth = t_bf_synth + tau_Lya_synth\n",
    "    flux = np.exp(-tau_tot_synth)\n",
    "    print flux.shape\n",
    "    var = np.var(flux,axis=0)\n",
    "    return var"
   ]
  },
  {
   "cell_type": "code",
   "execution_count": null,
   "metadata": {
    "collapsed": false
   },
   "outputs": [],
   "source": [
    "cont_var15 = continuum_variance(2.45, 200, -.5)\n",
    "cont_var10 = continuum_variance(2.45, 200, 1.0)\n",
    "cont_var20 = continuum_variance(2.45, 200, 0)\n",
    "# tot_var = total_variance(2.45,2000)"
   ]
  },
  {
   "cell_type": "code",
   "execution_count": null,
   "metadata": {
    "collapsed": false
   },
   "outputs": [],
   "source": [
    "plt.figure(figsize=(12,8))\n",
    "plt.plot(wav_em, cont_var15, label=r\"$\\beta = 1.5$\")\n",
    "plt.plot(wav_em, cont_var10, label=r\"$\\beta = 1.0$\")\n",
    "plt.plot(wav_em, cont_var20, label=r\"$\\beta = 2.0$\")\n",
    "plt.xlabel(r\"wavelength $[\\AA]$\")\n",
    "plt.ylabel(r\"$\\sqrt{\\sigma^2}$ / mean Flux\")\n",
    "plt.title(r\"Variance of the Lyman continuum flux for Haardt & Madau 2012 CDDF\")\n",
    "plt.legend()\n",
    "plt.plot()\n",
    "plt.show()"
   ]
  },
  {
   "cell_type": "markdown",
   "metadata": {},
   "source": [
    "# need to normalize single power law distributions to the mean free path (not finished)"
   ]
  },
  {
   "cell_type": "code",
   "execution_count": null,
   "metadata": {
    "collapsed": true
   },
   "outputs": [],
   "source": [
    "def f(NHI,A,beta,gamma):\n",
    "    return A*NHI**(-beta)*(1+z)**gamma\n",
    "\n",
    "def normalize_CDDF(CDDF(NHI,z)):\n",
    "    sigma912 = 6.30e-18\n",
    "    beta = 1\n",
    "    A = sigma912*(beta-1)*NHI\n",
    "    \n",
    "    "
   ]
  },
  {
   "cell_type": "code",
   "execution_count": null,
   "metadata": {
    "collapsed": false
   },
   "outputs": [],
   "source": [
    "def a(x,c):\n",
    "    return c*x**2\n",
    "def test(b):\n",
    "    nh2 = 10\n",
    "    return b*2"
   ]
  },
  {
   "cell_type": "code",
   "execution_count": null,
   "metadata": {
    "collapsed": false
   },
   "outputs": [],
   "source": [
    "@jit\n",
    "def __makeSyntheticSkewer(beta, z):\n",
    "    \"\"\" Note: this is depricated as it is much slower than fast_makeSyntheticSkewer()\"\"\"\n",
    "    \n",
    "    width = 30 # km/s\n",
    "    #This is just a sketch of how you might want to code the contruction\n",
    "    #of random spectra (not meant to be working code). You will have to define\n",
    "    #the constants and functions that are relevant for your calculation. \n",
    "    #I extracted this fragment from some of Matt McQuinn's code\n",
    "\n",
    "    #Set the span of the line profiles of your absorbers.  Here dv\n",
    "    #is the resolution element of your mock spectrum.   \n",
    "    imax = int(300/width)\n",
    "\n",
    "    logNMAX = 19\n",
    "    logNMIN = 12.5\n",
    "\n",
    "    skewer = np.zeros_like(wav_em)\n",
    "    \n",
    "    # skewer_size = wav_em.size\n",
    "    # skewer = np.zeros(3000)\n",
    "    skewer_size = np.size(skewer) \n",
    "    skewer_length = skewer_size*dv # km/s\n",
    "\n",
    "\n",
    "    #You will first want to set the number of logarithmic bins in NHI\n",
    "    numN = 40\n",
    "    dlogN = (logNMAX-logNMIN)/numN\n",
    "\n",
    "    #Loop over the NHI bins\n",
    "    for ii in range(numN):\n",
    "\n",
    "        NHI = 10**(dlogN*ii + logNMIN)\n",
    "\n",
    "        #Draw from a Poisson distribution the number of absorbers along the sightline with NHI in this bin.  \n",
    "        #Note that if you want to do this in velocity space, you will want the CDDF to be expressed as the \n",
    "        #number of absorbers per km/s per logNHI, and you will want \"skewer_length\" to be in km/s \n",
    "        num_absorbers = np.random.poisson(skewer_length*CDDF(NHI,-1.5,z)*dlogN*NHI)\n",
    "\n",
    "        # print skewer_size*CDDF(NHI,z)*dlogN, num_absorbers, imax\n",
    "\n",
    "        #Now lay down the absorbers at a random location along your sightline\n",
    "        #Loop over absorbers in this NHI bin\n",
    "        for j in xrange(num_absorbers):\n",
    "\n",
    "            #The random location of the absorber\n",
    "            random_point = np.random.randint(0,skewer_size+1)\n",
    "            # random_point = randomPointArray[j]\n",
    "\n",
    "            #Add the opacity of this absorber to your sightline\n",
    "            #The extent of the line profile is set by imax\n",
    "            for i in xrange(-imax, imax, 1):\n",
    "\n",
    "                #This mod (%) enforces periodic boundaries\n",
    "                #Here the opticalDepthProfile should be your line profile (e.g. Gaussian)\n",
    "                skewer[(random_point+i + skewer_size)%skewer_size] += opticalDepthProfile(i*width, NHI)\n",
    "\n",
    "    return skewer"
   ]
  },
  {
   "cell_type": "code",
   "execution_count": null,
   "metadata": {
    "collapsed": false
   },
   "outputs": [],
   "source": [
    "test(a(nh2,2))"
   ]
  },
  {
   "cell_type": "code",
   "execution_count": null,
   "metadata": {
    "collapsed": true
   },
   "outputs": [],
   "source": []
  }
 ],
 "metadata": {
  "kernelspec": {
   "display_name": "Python 2",
   "language": "python",
   "name": "python2"
  },
  "language_info": {
   "codemirror_mode": {
    "name": "ipython",
    "version": 2
   },
   "file_extension": ".py",
   "mimetype": "text/x-python",
   "name": "python",
   "nbconvert_exporter": "python",
   "pygments_lexer": "ipython2",
   "version": "2.7.11"
  }
 },
 "nbformat": 4,
 "nbformat_minor": 0
}
